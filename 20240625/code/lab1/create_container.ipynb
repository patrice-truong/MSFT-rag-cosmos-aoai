{
 "cells": [
  {
   "cell_type": "markdown",
   "metadata": {},
   "source": [
    "### Load dependencies"
   ]
  },
  {
   "cell_type": "code",
   "execution_count": 1,
   "metadata": {},
   "outputs": [
    {
     "data": {
      "text/plain": [
       "True"
      ]
     },
     "execution_count": 1,
     "metadata": {},
     "output_type": "execute_result"
    }
   ],
   "source": [
    "import os\n",
    "from azure.cosmos import CosmosClient, PartitionKey\n",
    "from azure.cosmos.cosmos_client import ThroughputProperties\n",
    "from dotenv import load_dotenv\n",
    "\n",
    "load_dotenv(\"..\\.env\")\n"
   ]
  },
  {
   "cell_type": "markdown",
   "metadata": {},
   "source": [
    "### Step 1: Create Cosmos DB database and container with vector support"
   ]
  },
  {
   "cell_type": "code",
   "execution_count": 2,
   "metadata": {},
   "outputs": [
    {
     "name": "stdout",
     "output_type": "stream",
     "text": [
      "Getting database..\n",
      "Creating 'products' container..\n",
      "'products' container created.\n"
     ]
    }
   ],
   "source": [
    "COSMOS_DB_ENDPOINT = os.getenv('AZURE_COSMOSDB_NOSQL_ENDPOINT')\n",
    "COSMOS_DB_KEY = os.getenv('AZURE_COSMOSDB_NOSQL_KEY')\n",
    "DATABASE_NAME = os.getenv('AZURE_COSMOSDB_NOSQL_DATABASE_NAME')\n",
    "CONTAINER_NAME = os.getenv('AZURE_COSMOSDB_NOSQL_CONTAINER_NAME')\n",
    "OFFER_THROUGHPUT = 1000\n",
    "\n",
    "throughput_properties = ThroughputProperties(auto_scale_max_throughput=OFFER_THROUGHPUT)\n",
    "\n",
    "indexing_policy = {\n",
    "    \"includedPaths\": [\n",
    "        {\"path\": \"/*\"},\n",
    "    ],\n",
    "    \"excludedPaths\": [\n",
    "        {\"path\": \"/\\\"_etag\\\"/?\"},\n",
    "        {\"path\": \"/embedding/*\"}\n",
    "    ],\n",
    "    \"vectorIndexes\": [\n",
    "        {\n",
    "            \"path\": \"/embedding\",\n",
    "            \"type\": \"quantizedFlat\"\n",
    "        }\n",
    "    ]\n",
    "}\n",
    "\n",
    "embedding_policy = {\n",
    "    \"vectorEmbeddings\": [        \n",
    "        {\n",
    "            \"path\": \"/embedding\",\n",
    "            \"dataType\": \"float32\",\n",
    "            \"distanceFunction\": \"cosine\",\n",
    "            \"dimensions\": 384\n",
    "        }\n",
    "    ]\n",
    "}\n",
    "\n",
    "print(\"Getting database..\")\n",
    "client = CosmosClient(COSMOS_DB_ENDPOINT, COSMOS_DB_KEY)\n",
    "database = client.get_database_client(DATABASE_NAME)\n",
    "\n",
    "# Create \"products\" container\n",
    "print(f\"Creating '{CONTAINER_NAME}' container..\")\n",
    "container = database.create_container_if_not_exists(\n",
    "    id=CONTAINER_NAME,\n",
    "    partition_key=PartitionKey(path=\"/productId\"),\n",
    "    indexing_policy=indexing_policy,\n",
    "    vector_embedding_policy=embedding_policy,\n",
    "    offer_throughput=throughput_properties\n",
    ")\n",
    "print(f\"'{CONTAINER_NAME}' container created.\")\n"
   ]
  }
 ],
 "metadata": {
  "kernelspec": {
   "display_name": "Python 3",
   "language": "python",
   "name": "python3"
  },
  "language_info": {
   "codemirror_mode": {
    "name": "ipython",
    "version": 3
   },
   "file_extension": ".py",
   "mimetype": "text/x-python",
   "name": "python",
   "nbconvert_exporter": "python",
   "pygments_lexer": "ipython3",
   "version": "3.11.9"
  },
  "orig_nbformat": 4
 },
 "nbformat": 4,
 "nbformat_minor": 2
}
